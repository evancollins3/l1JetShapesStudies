{
 "cells": [
  {
   "cell_type": "code",
   "execution_count": 1,
   "id": "34e5eda2-9b37-4d3c-b7c3-c0d438348fd6",
   "metadata": {},
   "outputs": [
    {
     "name": "stdout",
     "output_type": "stream",
     "text": [
      "Input file: ../data/L1T_Jet_MLInputs_Run3_QCD_Pt15to7000_PFA1p_CMSSW12_6_0_pre1_nVtxAll_20220925.csv\n"
     ]
    }
   ],
   "source": [
    "import numpy as np\n",
    "import pandas as pd\n",
    "import argparse\n",
    "\n",
    "parser = argparse.ArgumentParser()\n",
    "parseGroup1 = parser.add_mutually_exclusive_group(required=False)\n",
    "parseGroup1.add_argument('--ChunkyDonut', action='store_true', default=True)\n",
    "parseGroup1.add_argument('--PhiRing',     action='store_true', default=False)\n",
    "\n",
    "#args = parser.parse_args()\n",
    "args = parser.parse_args(\"--ChunkyDonut\".split()) # to run in jupyter-notebook \n",
    "l1Jet_ChunkyDonut = args.ChunkyDonut\n",
    "l1Jet_PhiRing     = args.PhiRing\n",
    "\n",
    "sIpFileName = \"../data/L1T_Jet_MLInputs_Run3_QCD_Pt15to7000_PFA1p_CMSSW12_6_0_pre1_nVtxAll_20220925.csv\"\n",
    "\n",
    "\n",
    "data_all = pd.read_csv(sIpFileName)\n",
    "print(\"Input file: %s\" % (sIpFileName))"
   ]
  },
  {
   "cell_type": "code",
   "execution_count": 2,
   "id": "8f8eb020-e9c6-403c-9614-c22d4b8561f5",
   "metadata": {},
   "outputs": [
    {
     "name": "stdout",
     "output_type": "stream",
     "text": [
      "data_all.columns: Index(['runNumber', 'lumiSectionNumber', 'eventNumber', 'nVertexReco',\n",
      "       'GenJetEt', 'nVertexGen', 'nMeanPUGen', 'L1JetType', 'L1JetDefault_Et',\n",
      "       'L1JetTowerIEtaAbs', 'L1JetDefault_RawEt',\n",
      "       'L1JetDefault_PUEt_ChunkyDonut', 'L1Jet9x9_RawEt',\n",
      "       'L1Jet9x9_EtSum7PUTowers', 'L1Jet9x9_PUEt_ChunkyDonut'],\n",
      "      dtype='object'), \n",
      "data_all.shape: (18218932, 15)\n"
     ]
    }
   ],
   "source": [
    "print(\"data_all.columns: {}, \\ndata_all.shape: {}\".format(data_all.columns, data_all.shape))"
   ]
  },
  {
   "cell_type": "code",
   "execution_count": 8,
   "id": "6ac32493-70d6-4182-9032-bf9583ffd6a3",
   "metadata": {},
   "outputs": [
    {
     "name": "stdout",
     "output_type": "stream",
     "text": [
      "data_all.describe():         runNumber  lumiSectionNumber   eventNumber   nVertexReco  \\\n",
      "count  18218932.0       1.821893e+07  1.821893e+07  1.821893e+07   \n",
      "mean          1.0       1.444852e+04  4.912329e+06  4.917846e+01   \n",
      "std           0.0       8.523267e+03  2.897911e+06  9.442895e+00   \n",
      "min           1.0       2.000000e+00  3.410000e+02  0.000000e+00   \n",
      "25%           1.0       7.160000e+03  2.434180e+06  4.300000e+01   \n",
      "50%           1.0       1.414000e+04  4.807572e+06  5.000000e+01   \n",
      "75%           1.0       2.187400e+04  7.436836e+06  5.600000e+01   \n",
      "max           1.0       2.941200e+04  1.000000e+07  9.200000e+01   \n",
      "\n",
      "           GenJetEt    nVertexGen    nMeanPUGen  L1JetDefault_Et  \\\n",
      "count  1.821893e+07  1.821893e+07  1.821893e+07     1.821893e+07   \n",
      "mean   1.386184e+02  4.975521e+01  4.917846e+01     1.378540e+02   \n",
      "std    1.268615e+02  1.181372e+01  9.442895e+00     1.279238e+02   \n",
      "min    3.000012e+00  0.000000e+00  0.000000e+00     5.000010e-01   \n",
      "25%    4.725019e+01  4.200000e+01  4.300000e+01     4.550000e+01   \n",
      "50%    9.603172e+01  5.000000e+01  5.000000e+01     9.450000e+01   \n",
      "75%    1.922916e+02  5.800000e+01  5.600000e+01     1.910000e+02   \n",
      "max    2.063811e+03  1.160000e+02  9.200000e+01     1.023000e+03   \n",
      "\n",
      "       L1JetTowerIEtaAbs  L1JetDefault_RawEt  L1JetDefault_PUEt_ChunkyDonut  \\\n",
      "count       1.821893e+07        1.821893e+07                   1.821893e+07   \n",
      "mean        1.573424e+01        2.263814e+02                   1.890206e+01   \n",
      "std         9.900432e+00        2.092725e+02                   1.616322e+01   \n",
      "min         1.000000e+00        8.000000e+00                   0.000000e+00   \n",
      "25%         7.000000e+00        7.900000e+01                   8.000000e+00   \n",
      "50%         1.500000e+01        1.520000e+02                   1.400000e+01   \n",
      "75%         2.400000e+01        3.090000e+02                   2.400000e+01   \n",
      "max         4.100000e+01        1.979000e+03                   7.990000e+02   \n",
      "\n",
      "       L1Jet9x9_RawEt  L1Jet9x9_EtSum7PUTowers  L1Jet9x9_PUEt_ChunkyDonut  \\\n",
      "count    1.821893e+07             1.821893e+07               1.821893e+07   \n",
      "mean     1.131907e+02             1.197182e+02               9.451032e+00   \n",
      "std      1.046362e+02             1.313696e+02               8.081609e+00   \n",
      "min      4.000000e+00             0.000000e+00               0.000000e+00   \n",
      "25%      3.950000e+01             4.200000e+01               4.000000e+00   \n",
      "50%      7.600000e+01             6.700000e+01               7.000000e+00   \n",
      "75%      1.545000e+02             1.535000e+02               1.200000e+01   \n",
      "max      9.895000e+02             3.945500e+03               3.995000e+02   \n",
      "\n",
      "       L1JetEt_PUS_ChunkyDonut  L1JetEt_PUS_PhiRing  \n",
      "count             1.821893e+07         1.821893e+07  \n",
      "mean              1.037397e+02         9.608809e+01  \n",
      "std               1.042631e+02         1.041586e+02  \n",
      "min               5.000000e-01        -5.149286e+02  \n",
      "25%               2.950000e+01         2.371429e+01  \n",
      "50%               6.500000e+01         5.914286e+01  \n",
      "75%               1.450000e+02         1.380714e+02  \n",
      "max               8.440000e+02         9.137857e+02  \n"
     ]
    }
   ],
   "source": [
    "data_all['L1JetEt_PUS_ChunkyDonut'] = data_all['L1Jet9x9_RawEt'] - data_all['L1Jet9x9_PUEt_ChunkyDonut']\n",
    "\n",
    "data_all['L1JetEt_PUS_PhiRing']     = data_all['L1Jet9x9_RawEt'] - (data_all['L1Jet9x9_EtSum7PUTowers'] / 7.0 )\n",
    "\n",
    "print(\"data_all.describe(): {}\".format(data_all.describe()))"
   ]
  },
  {
   "cell_type": "code",
   "execution_count": null,
   "id": "7e53ee06-a389-4c00-9da2-e602335e2f34",
   "metadata": {},
   "outputs": [],
   "source": [
    "## data cleaning--------\n",
    "data"
   ]
  }
 ],
 "metadata": {
  "kernelspec": {
   "display_name": "Python 3 (ipykernel)",
   "language": "python",
   "name": "python3"
  },
  "language_info": {
   "codemirror_mode": {
    "name": "ipython",
    "version": 3
   },
   "file_extension": ".py",
   "mimetype": "text/x-python",
   "name": "python",
   "nbconvert_exporter": "python",
   "pygments_lexer": "ipython3",
   "version": "3.10.5"
  }
 },
 "nbformat": 4,
 "nbformat_minor": 5
}
